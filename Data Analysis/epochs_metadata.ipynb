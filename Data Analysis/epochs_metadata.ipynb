{
 "cells": [
  {
   "cell_type": "code",
   "execution_count": 1,
   "id": "55d1f1a4",
   "metadata": {},
   "outputs": [
    {
     "name": "stdout",
     "output_type": "stream",
     "text": [
      "Reading /Users/Barbu/Documents/Postdoc/Experiments/Pushmi/MEG/Data/Pilot/BIDS/derivatives/mne-bids-pipeline/sub-01/meg/sub-01_task-localizer_epo.fif ...\n",
      "    Found the data of interest:\n",
      "        t =    -200.00 ...    1000.00 ms\n",
      "        0 CTF compensation matrices available\n",
      "Adding metadata with 3 columns\n",
      "960 matching events found\n",
      "No baseline correction applied\n",
      "0 projection items activated\n"
     ]
    }
   ],
   "source": [
    "from pathlib import Path\n",
    "import pandas as pd\n",
    "import mne\n",
    "\n",
    "# ------------------\n",
    "# Paths & I/O\n",
    "# ------------------\n",
    "LOCALIZER_EPO = Path(\"/Users/Barbu/Documents/Postdoc/Experiments/Pushmi/MEG/Data/Pilot/BIDS/derivatives/mne-bids-pipeline/sub-01/meg/sub-01_task-localizer_epo.fif\")\n",
    "BEHAVIOR_XPD = Path(\"/Users/Barbu/Documents/Postdoc/Experiments/Pushmi/MEG/Data/Pilot/Behavior/sub-01/data.xpd\")\n",
    "\n",
    "epochs = mne.read_epochs(LOCALIZER_EPO)\n",
    "meta = epochs.metadata.reset_index(drop=True)\n"
   ]
  },
  {
   "cell_type": "code",
   "execution_count": 6,
   "id": "e712265d",
   "metadata": {},
   "outputs": [
    {
     "name": "stdout",
     "output_type": "stream",
     "text": [
      "Replacing existing metadata with 14 columns\n"
     ]
    }
   ],
   "source": [
    "# ------------------\n",
    "# Behavioral dataset\n",
    "# ------------------\n",
    "behavior = (\n",
    "    pd.read_csv(BEHAVIOR_XPD, comment=\"#\")\n",
    "      .query(\"trial_type == 'localizer' and trial_block != 0\")\n",
    "      .assign(\n",
    "          subject_id = 1,\n",
    "          trial_number = lambda d: d.trial_number - 64\n",
    "      )\n",
    "      .loc[:, [\n",
    "          \"subject_id\", \"trial_type\", \"trial_block\", \"trial_number\",\n",
    "          \"shape1\", \"label1\", \"correct_key\",\n",
    "          \"participant_response\", \"reaction_time\", \"participant_correct\"\n",
    "      ]]\n",
    "      .reset_index(drop=True)\n",
    ")\n",
    "\n",
    "# ------------------\n",
    "# Align & merge by row index\n",
    "# ------------------\n",
    "assert len(behavior) == len(meta), f\"Row mismatch: behavior={len(behavior)} vs meta={len(meta)}\"\n",
    "\n",
    "merged = (\n",
    "    behavior\n",
    "      .join(meta, rsuffix=\"_meta\")\n",
    "      .rename(columns={\"trial_type\": \"task\"})\n",
    "      .assign(stimulus=lambda d: d[\"shape1\"].fillna(d[\"label1\"]))\n",
    ")\n",
    "\n",
    "merged = merged.replace({\"carré\": \"carre\", \"losenge\": \"losange\"}, regex=True)\n",
    "\n",
    "epochs.metadata = merged\n",
    "\n",
    "# words = [\"biche\", \"dinde\"]\n",
    "# epochs[f\"stimulus in {words}\"].plot(n_channels=29, events=True)"
   ]
  },
  {
   "cell_type": "code",
   "execution_count": 7,
   "id": "096e536a",
   "metadata": {},
   "outputs": [],
   "source": [
    "merged.to_csv(\"metadata_localizer.csv\", index=False)"
   ]
  }
 ],
 "metadata": {
  "kernelspec": {
   "display_name": "mnepipe",
   "language": "python",
   "name": "python3"
  },
  "language_info": {
   "codemirror_mode": {
    "name": "ipython",
    "version": 3
   },
   "file_extension": ".py",
   "mimetype": "text/x-python",
   "name": "python",
   "nbconvert_exporter": "python",
   "pygments_lexer": "ipython3",
   "version": "3.13.7"
  }
 },
 "nbformat": 4,
 "nbformat_minor": 5
}
