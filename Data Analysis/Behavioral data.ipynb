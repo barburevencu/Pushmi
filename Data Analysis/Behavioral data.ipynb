{
 "cells": [
  {
   "cell_type": "code",
   "execution_count": 4,
   "id": "b702edd7",
   "metadata": {
    "vscode": {
     "languageId": "r"
    }
   },
   "outputs": [
    {
     "name": "stderr",
     "output_type": "stream",
     "text": [
      "-- \u001b[1mAttaching core tidyverse packages\u001b[22m ------------------------ tidyverse 2.0.0 --\n",
      "\u001b[32mv\u001b[39m \u001b[34mdplyr    \u001b[39m 1.1.4     \u001b[32mv\u001b[39m \u001b[34mreadr    \u001b[39m 2.1.5\n",
      "\u001b[32mv\u001b[39m \u001b[34mforcats  \u001b[39m 1.0.0     \u001b[32mv\u001b[39m \u001b[34mstringr  \u001b[39m 1.5.1\n",
      "\u001b[32mv\u001b[39m \u001b[34mggplot2  \u001b[39m 3.5.1     \u001b[32mv\u001b[39m \u001b[34mtibble   \u001b[39m 3.2.1\n",
      "\u001b[32mv\u001b[39m \u001b[34mlubridate\u001b[39m 1.9.3     \u001b[32mv\u001b[39m \u001b[34mtidyr    \u001b[39m 1.3.1\n",
      "\u001b[32mv\u001b[39m \u001b[34mpurrr    \u001b[39m 1.0.2     \n",
      "-- \u001b[1mConflicts\u001b[22m ------------------------------------------ tidyverse_conflicts() --\n",
      "\u001b[31mx\u001b[39m \u001b[34mdplyr\u001b[39m::\u001b[32mfilter()\u001b[39m masks \u001b[34mstats\u001b[39m::filter()\n",
      "\u001b[31mx\u001b[39m \u001b[34mdplyr\u001b[39m::\u001b[32mlag()\u001b[39m    masks \u001b[34mstats\u001b[39m::lag()\n",
      "\u001b[36mi\u001b[39m Use the conflicted package (\u001b[3m\u001b[34m<http://conflicted.r-lib.org/>\u001b[39m\u001b[23m) to force all conflicts to become errors\n"
     ]
    }
   ],
   "source": [
    "library(tidyverse)\n",
    "library(ggplot2)\n",
    "setwd(\"/Users/Barbu/Documents/Postdoc/Experiments/Pushmi/MEG/Pilot/Maxence/\")"
   ]
  },
  {
   "cell_type": "code",
   "execution_count": 5,
   "id": "541662bb",
   "metadata": {
    "vscode": {
     "languageId": "r"
    }
   },
   "outputs": [],
   "source": [
    "raw <- read.csv(\"data.xpd\", skip = 10, header = TRUE, sep = \",\") %>% tibble()"
   ]
  },
  {
   "cell_type": "code",
   "execution_count": 9,
   "id": "402a8752",
   "metadata": {
    "vscode": {
     "languageId": "r"
    }
   },
   "outputs": [
    {
     "data": {
      "text/html": [
       "<table class=\"dataframe\">\n",
       "<caption>A tibble: 1 x 1</caption>\n",
       "<thead>\n",
       "\t<tr><th scope=col>duration_seconds</th></tr>\n",
       "\t<tr><th scope=col>&lt;dbl&gt;</th></tr>\n",
       "</thead>\n",
       "<tbody>\n",
       "\t<tr><td>12.83749</td></tr>\n",
       "</tbody>\n",
       "</table>\n"
      ],
      "text/latex": [
       "A tibble: 1 x 1\n",
       "\\begin{tabular}{l}\n",
       " duration\\_seconds\\\\\n",
       " <dbl>\\\\\n",
       "\\hline\n",
       "\t 12.83749\\\\\n",
       "\\end{tabular}\n"
      ],
      "text/markdown": [
       "\n",
       "A tibble: 1 x 1\n",
       "\n",
       "| duration_seconds &lt;dbl&gt; |\n",
       "|---|\n",
       "| 12.83749 |\n",
       "\n"
      ],
      "text/plain": [
       "  duration_seconds\n",
       "1 12.83749        "
      ]
     },
     "metadata": {},
     "output_type": "display_data"
    }
   ],
   "source": [
    "raw %>% \n",
    "    filter(trial_type == \"test\") %>%\n",
    "    mutate(duration = ifelse(trial_block == lag(trial_block), timestamp - lag(timestamp), NA_real_)) %>%\n",
    "    summarize(duration_seconds = mean(duration, na.rm = TRUE)/1000)"
   ]
  },
  {
   "cell_type": "code",
   "execution_count": null,
   "id": "b0878b62",
   "metadata": {
    "vscode": {
     "languageId": "r"
    }
   },
   "outputs": [
    {
     "name": "stderr",
     "output_type": "stream",
     "text": [
      "Warning message:\n",
      "\"\u001b[1m\u001b[22mThere was 1 warning in `mutate()`.\n",
      "\u001b[1m\u001b[22m\u001b[36mi\u001b[39m In argument: `reaction_time = as.numeric(reaction_time)`.\n",
      "Caused by warning:\n",
      "\u001b[33m!\u001b[39m NAs introduced by coercion\"\n"
     ]
    },
    {
     "data": {
      "text/html": [
       "<table class=\"dataframe\">\n",
       "<caption>A tibble: 1 x 2</caption>\n",
       "<thead>\n",
       "\t<tr><th scope=col>rt</th><th scope=col>accuracy</th></tr>\n",
       "\t<tr><th scope=col>&lt;dbl&gt;</th><th scope=col>&lt;dbl&gt;</th></tr>\n",
       "</thead>\n",
       "<tbody>\n",
       "\t<tr><td>579.2707</td><td>0.71875</td></tr>\n",
       "</tbody>\n",
       "</table>\n"
      ],
      "text/latex": [
       "A tibble: 1 x 2\n",
       "\\begin{tabular}{ll}\n",
       " rt & accuracy\\\\\n",
       " <dbl> & <dbl>\\\\\n",
       "\\hline\n",
       "\t 579.2707 & 0.71875\\\\\n",
       "\\end{tabular}\n"
      ],
      "text/markdown": [
       "\n",
       "A tibble: 1 x 2\n",
       "\n",
       "| rt &lt;dbl&gt; | accuracy &lt;dbl&gt; |\n",
       "|---|---|\n",
       "| 579.2707 | 0.71875 |\n",
       "\n"
      ],
      "text/plain": [
       "  rt       accuracy\n",
       "1 579.2707 0.71875 "
      ]
     },
     "metadata": {},
     "output_type": "display_data"
    }
   ],
   "source": [
    "raw %>%\n",
    "    filter(trial_type == \"test\", trial_block <= 6) %>%\n",
    "    mutate(reaction_time = as.numeric(reaction_time)) %>%\n",
    "    mutate(participant_correct = ifelse(participant_correct == \"True\", 1, 0)) %>%\n",
    "    summarize(rt = mean(reaction_time, na.rm = TRUE), accuracy = mean(participant_correct, na.rm = TRUE))"
   ]
  }
 ],
 "metadata": {
  "kernelspec": {
   "display_name": "R",
   "language": "R",
   "name": "ir"
  },
  "language_info": {
   "codemirror_mode": "r",
   "file_extension": ".r",
   "mimetype": "text/x-r-source",
   "name": "R",
   "pygments_lexer": "r",
   "version": "4.4.0"
  }
 },
 "nbformat": 4,
 "nbformat_minor": 5
}
