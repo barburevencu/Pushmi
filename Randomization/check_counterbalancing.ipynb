{
 "cells": [
  {
   "cell_type": "code",
   "execution_count": 1,
   "id": "cea308d3-5ec3-4c10-abd4-7426842a77de",
   "metadata": {
    "vscode": {
     "languageId": "r"
    }
   },
   "outputs": [
    {
     "name": "stderr",
     "output_type": "stream",
     "text": [
      "── \u001b[1mAttaching core tidyverse packages\u001b[22m ──────────────────────── tidyverse 2.0.0 ──\n",
      "\u001b[32m✔\u001b[39m \u001b[34mdplyr    \u001b[39m 1.1.4     \u001b[32m✔\u001b[39m \u001b[34mreadr    \u001b[39m 2.1.5\n",
      "\u001b[32m✔\u001b[39m \u001b[34mforcats  \u001b[39m 1.0.0     \u001b[32m✔\u001b[39m \u001b[34mstringr  \u001b[39m 1.5.1\n",
      "\u001b[32m✔\u001b[39m \u001b[34mggplot2  \u001b[39m 3.5.1     \u001b[32m✔\u001b[39m \u001b[34mtibble   \u001b[39m 3.2.1\n",
      "\u001b[32m✔\u001b[39m \u001b[34mlubridate\u001b[39m 1.9.3     \u001b[32m✔\u001b[39m \u001b[34mtidyr    \u001b[39m 1.3.1\n",
      "\u001b[32m✔\u001b[39m \u001b[34mpurrr    \u001b[39m 1.0.2     \n",
      "── \u001b[1mConflicts\u001b[22m ────────────────────────────────────────── tidyverse_conflicts() ──\n",
      "\u001b[31m✖\u001b[39m \u001b[34mdplyr\u001b[39m::\u001b[32mfilter()\u001b[39m masks \u001b[34mstats\u001b[39m::filter()\n",
      "\u001b[31m✖\u001b[39m \u001b[34mdplyr\u001b[39m::\u001b[32mlag()\u001b[39m    masks \u001b[34mstats\u001b[39m::lag()\n",
      "\u001b[36mℹ\u001b[39m Use the conflicted package (\u001b[3m\u001b[34m<http://conflicted.r-lib.org/>\u001b[39m\u001b[23m) to force all conflicts to become errors\n"
     ]
    }
   ],
   "source": [
    "library(tidyverse)\n",
    "library(corrr)"
   ]
  },
  {
   "cell_type": "code",
   "execution_count": 2,
   "id": "babbeb17-4eb8-41c1-a552-3d843cbe7921",
   "metadata": {
    "vscode": {
     "languageId": "r"
    }
   },
   "outputs": [],
   "source": [
    "centered_factor <- function(x) {\n",
    "  f <- as.factor(x)\n",
    "  n <- nlevels(f)\n",
    "  \n",
    "  if (n %% 2 == 1) {\n",
    "    # Odd number of levels: include 0\n",
    "    centered <- seq(-(n %/% 2), n %/% 2)\n",
    "  } else {\n",
    "    # Even number of levels: exclude 0\n",
    "    centered <- seq(-n / 2, n / 2)[-((n / 2) + 1)]\n",
    "  }\n",
    "  \n",
    "  centered[as.integer(f)]\n",
    "}\n",
    "\n",
    "corrs <- function(df){\n",
    "    return(df %>% \n",
    "               #mutate(across(everything(), centered_factor)) %>% \n",
    "               mutate(across(everything(), ~ as.numeric(as.factor(.)))) %>% \n",
    "               correlate(quiet=TRUE) %>%\n",
    "               as_tibble() %>%\n",
    "               mutate_if(is.numeric, round, 3))\n",
    "}"
   ]
  },
  {
   "cell_type": "markdown",
   "id": "7032c3b8-d6a1-4ad9-a564-761afe636df7",
   "metadata": {},
   "source": [
    "# Main task"
   ]
  },
  {
   "cell_type": "code",
   "execution_count": 3,
   "id": "d7d4a174",
   "metadata": {
    "vscode": {
     "languageId": "r"
    }
   },
   "outputs": [],
   "source": [
    "cb <- read_csv(\"/Users/Barbu/Documents/Postdoc/Experiments/Pushmi/MEG/Randomization/cb.csv\", col_types = cols()) %>%\n",
    "    filter(trial_type == 'test')"
   ]
  },
  {
   "cell_type": "code",
   "execution_count": 4,
   "id": "22c53c26-0505-43c4-8feb-19540f535932",
   "metadata": {
    "vscode": {
     "languageId": "r"
    }
   },
   "outputs": [
    {
     "name": "stderr",
     "output_type": "stream",
     "text": [
      "Warning message in stats::cor(x = x, y = y, use = use, method = method):\n",
      "“the standard deviation is zero”\n"
     ]
    },
    {
     "data": {
      "text/html": [
       "<table class=\"dataframe\">\n",
       "<caption>A tibble: 10 × 11</caption>\n",
       "<thead>\n",
       "\t<tr><th scope=col>term</th><th scope=col>shape_pair</th><th scope=col>agent</th><th scope=col>agent_shape</th><th scope=col>assignment_order</th><th scope=col>central_shape</th><th scope=col>outcome</th><th scope=col>lateral_position</th><th scope=col>movement</th><th scope=col>correct_key</th><th scope=col>alphabet_order</th></tr>\n",
       "\t<tr><th scope=col>&lt;chr&gt;</th><th scope=col>&lt;dbl&gt;</th><th scope=col>&lt;dbl&gt;</th><th scope=col>&lt;dbl&gt;</th><th scope=col>&lt;dbl&gt;</th><th scope=col>&lt;dbl&gt;</th><th scope=col>&lt;dbl&gt;</th><th scope=col>&lt;dbl&gt;</th><th scope=col>&lt;dbl&gt;</th><th scope=col>&lt;dbl&gt;</th><th scope=col>&lt;dbl&gt;</th></tr>\n",
       "</thead>\n",
       "<tbody>\n",
       "\t<tr><td>shape_pair      </td><td>NA</td><td>NA</td><td>NA</td><td>NA</td><td>NA</td><td>NA</td><td>NA</td><td>NA</td><td>NA</td><td>NA</td></tr>\n",
       "\t<tr><td>agent           </td><td>NA</td><td>NA</td><td> 0</td><td> 0</td><td> 0</td><td> 0</td><td> 0</td><td> 0</td><td> 0</td><td> 0</td></tr>\n",
       "\t<tr><td>agent_shape     </td><td>NA</td><td> 0</td><td>NA</td><td> 0</td><td> 0</td><td> 0</td><td> 0</td><td> 0</td><td> 0</td><td> 0</td></tr>\n",
       "\t<tr><td>assignment_order</td><td>NA</td><td> 0</td><td> 0</td><td>NA</td><td> 0</td><td> 0</td><td> 0</td><td> 0</td><td> 0</td><td> 0</td></tr>\n",
       "\t<tr><td>central_shape   </td><td>NA</td><td> 0</td><td> 0</td><td> 0</td><td>NA</td><td> 0</td><td> 0</td><td> 0</td><td> 0</td><td> 0</td></tr>\n",
       "\t<tr><td>outcome         </td><td>NA</td><td> 0</td><td> 0</td><td> 0</td><td> 0</td><td>NA</td><td> 0</td><td> 0</td><td> 0</td><td> 0</td></tr>\n",
       "\t<tr><td>lateral_position</td><td>NA</td><td> 0</td><td> 0</td><td> 0</td><td> 0</td><td> 0</td><td>NA</td><td> 0</td><td> 0</td><td> 0</td></tr>\n",
       "\t<tr><td>movement        </td><td>NA</td><td> 0</td><td> 0</td><td> 0</td><td> 0</td><td> 0</td><td> 0</td><td>NA</td><td> 0</td><td> 0</td></tr>\n",
       "\t<tr><td>correct_key     </td><td>NA</td><td> 0</td><td> 0</td><td> 0</td><td> 0</td><td> 0</td><td> 0</td><td> 0</td><td>NA</td><td> 0</td></tr>\n",
       "\t<tr><td>alphabet_order  </td><td>NA</td><td> 0</td><td> 0</td><td> 0</td><td> 0</td><td> 0</td><td> 0</td><td> 0</td><td> 0</td><td>NA</td></tr>\n",
       "</tbody>\n",
       "</table>\n"
      ],
      "text/latex": [
       "A tibble: 10 × 11\n",
       "\\begin{tabular}{lllllllllll}\n",
       " term & shape\\_pair & agent & agent\\_shape & assignment\\_order & central\\_shape & outcome & lateral\\_position & movement & correct\\_key & alphabet\\_order\\\\\n",
       " <chr> & <dbl> & <dbl> & <dbl> & <dbl> & <dbl> & <dbl> & <dbl> & <dbl> & <dbl> & <dbl>\\\\\n",
       "\\hline\n",
       "\t shape\\_pair       & NA & NA & NA & NA & NA & NA & NA & NA & NA & NA\\\\\n",
       "\t agent            & NA & NA &  0 &  0 &  0 &  0 &  0 &  0 &  0 &  0\\\\\n",
       "\t agent\\_shape      & NA &  0 & NA &  0 &  0 &  0 &  0 &  0 &  0 &  0\\\\\n",
       "\t assignment\\_order & NA &  0 &  0 & NA &  0 &  0 &  0 &  0 &  0 &  0\\\\\n",
       "\t central\\_shape    & NA &  0 &  0 &  0 & NA &  0 &  0 &  0 &  0 &  0\\\\\n",
       "\t outcome          & NA &  0 &  0 &  0 &  0 & NA &  0 &  0 &  0 &  0\\\\\n",
       "\t lateral\\_position & NA &  0 &  0 &  0 &  0 &  0 & NA &  0 &  0 &  0\\\\\n",
       "\t movement         & NA &  0 &  0 &  0 &  0 &  0 &  0 & NA &  0 &  0\\\\\n",
       "\t correct\\_key      & NA &  0 &  0 &  0 &  0 &  0 &  0 &  0 & NA &  0\\\\\n",
       "\t alphabet\\_order   & NA &  0 &  0 &  0 &  0 &  0 &  0 &  0 &  0 & NA\\\\\n",
       "\\end{tabular}\n"
      ],
      "text/markdown": [
       "\n",
       "A tibble: 10 × 11\n",
       "\n",
       "| term &lt;chr&gt; | shape_pair &lt;dbl&gt; | agent &lt;dbl&gt; | agent_shape &lt;dbl&gt; | assignment_order &lt;dbl&gt; | central_shape &lt;dbl&gt; | outcome &lt;dbl&gt; | lateral_position &lt;dbl&gt; | movement &lt;dbl&gt; | correct_key &lt;dbl&gt; | alphabet_order &lt;dbl&gt; |\n",
       "|---|---|---|---|---|---|---|---|---|---|---|\n",
       "| shape_pair       | NA | NA | NA | NA | NA | NA | NA | NA | NA | NA |\n",
       "| agent            | NA | NA |  0 |  0 |  0 |  0 |  0 |  0 |  0 |  0 |\n",
       "| agent_shape      | NA |  0 | NA |  0 |  0 |  0 |  0 |  0 |  0 |  0 |\n",
       "| assignment_order | NA |  0 |  0 | NA |  0 |  0 |  0 |  0 |  0 |  0 |\n",
       "| central_shape    | NA |  0 |  0 |  0 | NA |  0 |  0 |  0 |  0 |  0 |\n",
       "| outcome          | NA |  0 |  0 |  0 |  0 | NA |  0 |  0 |  0 |  0 |\n",
       "| lateral_position | NA |  0 |  0 |  0 |  0 |  0 | NA |  0 |  0 |  0 |\n",
       "| movement         | NA |  0 |  0 |  0 |  0 |  0 |  0 | NA |  0 |  0 |\n",
       "| correct_key      | NA |  0 |  0 |  0 |  0 |  0 |  0 |  0 | NA |  0 |\n",
       "| alphabet_order   | NA |  0 |  0 |  0 |  0 |  0 |  0 |  0 |  0 | NA |\n",
       "\n"
      ],
      "text/plain": [
       "   term             shape_pair agent agent_shape assignment_order central_shape\n",
       "1  shape_pair       NA         NA    NA          NA               NA           \n",
       "2  agent            NA         NA     0           0                0           \n",
       "3  agent_shape      NA          0    NA           0                0           \n",
       "4  assignment_order NA          0     0          NA                0           \n",
       "5  central_shape    NA          0     0           0               NA           \n",
       "6  outcome          NA          0     0           0                0           \n",
       "7  lateral_position NA          0     0           0                0           \n",
       "8  movement         NA          0     0           0                0           \n",
       "9  correct_key      NA          0     0           0                0           \n",
       "10 alphabet_order   NA          0     0           0                0           \n",
       "   outcome lateral_position movement correct_key alphabet_order\n",
       "1  NA      NA               NA       NA          NA            \n",
       "2   0       0                0        0           0            \n",
       "3   0       0                0        0           0            \n",
       "4   0       0                0        0           0            \n",
       "5   0       0                0        0           0            \n",
       "6  NA       0                0        0           0            \n",
       "7   0      NA                0        0           0            \n",
       "8   0       0               NA        0           0            \n",
       "9   0       0                0       NA           0            \n",
       "10  0       0                0        0          NA            "
      ]
     },
     "metadata": {},
     "output_type": "display_data"
    }
   ],
   "source": [
    "cb %>% \n",
    "    mutate(alphabet_order = ifelse(shape_pair == paste0(shape1, \"-\", shape2), 1, 0)) %>%\n",
    "    filter(shape_pair == \"croix-etoile\") %>%\n",
    "    select(shape_pair, agent, agent_shape, assignment_order, central_shape, outcome,\n",
    "           lateral_position, movement, correct_key, alphabet_order) %>%\n",
    "    # mutate(across(everything(), ~ as.numeric(as.factor(.)))) %>%\n",
    "    # mutate(interaction = (agent_shape - 1) + 2 * (central_shape - 1) + 1) %>%\n",
    "    # group_by(shape_pair, interaction) %>% count()\n",
    "    corrs"
   ]
  },
  {
   "cell_type": "code",
   "execution_count": 5,
   "id": "4b60fb40",
   "metadata": {
    "vscode": {
     "languageId": "r"
    }
   },
   "outputs": [],
   "source": [
    "for(i in 1:30) {\n",
    "    v <- cb %>% \n",
    "        filter(subject_id == i) %>%\n",
    "        select(shape_pair, agent, agent_shape, assignment_order, central_shape, outcome,\n",
    "            lateral_position, movement, correct_key) %>%\n",
    "    #     mutate(across(everything(), ~ as.numeric(as.factor(.)))) %>%\n",
    "    #     mutate(interaction = (outcome - 1) + 2 * (agent_assignment - 1) + 1) %>%\n",
    "    #     group_by(shape_pair, interaction) %>% count()\n",
    "        corrs %>%\n",
    "        pivot_longer(-term) %>%\n",
    "        filter(!is.na(value)) %>%\n",
    "        pull(value) %>% max()\n",
    "    if (v != 0){print(v)}}"
   ]
  },
  {
   "cell_type": "code",
   "execution_count": 6,
   "id": "6efe1793-46a9-4d0a-830d-e6c793313c0b",
   "metadata": {
    "vscode": {
     "languageId": "r"
    }
   },
   "outputs": [
    {
     "data": {
      "text/html": [
       "<table class=\"dataframe\">\n",
       "<caption>A grouped_df: 4 × 2</caption>\n",
       "<thead>\n",
       "\t<tr><th scope=col>prev</th><th scope=col>n</th></tr>\n",
       "\t<tr><th scope=col>&lt;chr&gt;</th><th scope=col>&lt;int&gt;</th></tr>\n",
       "</thead>\n",
       "<tbody>\n",
       "\t<tr><td>different     </td><td>489</td></tr>\n",
       "\t<tr><td>same_referents</td><td>517</td></tr>\n",
       "\t<tr><td>same_shapes   </td><td>460</td></tr>\n",
       "\t<tr><td>swap          </td><td>234</td></tr>\n",
       "</tbody>\n",
       "</table>\n"
      ],
      "text/latex": [
       "A grouped\\_df: 4 × 2\n",
       "\\begin{tabular}{ll}\n",
       " prev & n\\\\\n",
       " <chr> & <int>\\\\\n",
       "\\hline\n",
       "\t different      & 489\\\\\n",
       "\t same\\_referents & 517\\\\\n",
       "\t same\\_shapes    & 460\\\\\n",
       "\t swap           & 234\\\\\n",
       "\\end{tabular}\n"
      ],
      "text/markdown": [
       "\n",
       "A grouped_df: 4 × 2\n",
       "\n",
       "| prev &lt;chr&gt; | n &lt;int&gt; |\n",
       "|---|---|\n",
       "| different      | 489 |\n",
       "| same_referents | 517 |\n",
       "| same_shapes    | 460 |\n",
       "| swap           | 234 |\n",
       "\n"
      ],
      "text/plain": [
       "  prev           n  \n",
       "1 different      489\n",
       "2 same_referents 517\n",
       "3 same_shapes    460\n",
       "4 swap           234"
      ]
     },
     "metadata": {},
     "output_type": "display_data"
    }
   ],
   "source": [
    "prev_trial <- cb %>%\n",
    "  mutate(\n",
    "    same_shapes_forward = shape1 == lag(shape1) & shape2 == lag(shape2),\n",
    "    same_shapes_reverse = shape1 == lag(shape2) & shape2 == lag(shape1),\n",
    "    same_labels_forward = label1 == lag(label1) & label2 == lag(label2),\n",
    "    same_labels_reverse = label1 == lag(label2) & label2 == lag(label1),\n",
    "    diff_shapes = shape1 != lag(shape1) & shape2 != lag(shape2) &\n",
    "                  shape1 != lag(shape2) & shape2 != lag(shape1),\n",
    "    diff_labels = label1 != lag(label1) & label2 != lag(label2) &\n",
    "                  label1 != lag(label2) & label2 != lag(label1),\n",
    "\n",
    "    prev = case_when(\n",
    "      (same_shapes_forward & same_labels_forward) |\n",
    "      (same_shapes_reverse & same_labels_reverse) ~ \"no_change\",\n",
    "      (same_shapes_reverse & same_labels_forward) |\n",
    "      (same_shapes_forward & same_labels_reverse) ~ \"swap\",\n",
    "      (same_shapes_forward | same_shapes_reverse) & diff_labels ~ \"same_shapes\",\n",
    "      diff_shapes & (same_labels_forward | same_labels_reverse) ~ \"same_referents\",\n",
    "      diff_shapes & diff_labels ~ \"different\",\n",
    "      \n",
    "      TRUE ~ NA\n",
    "    )\n",
    "  )\n",
    "\n",
    "prev_trial %>% group_by(prev) %>% filter(!is.na(prev), prev != \"no_change\") %>% count()"
   ]
  },
  {
   "cell_type": "code",
   "execution_count": 8,
   "id": "5942117f-6f87-4154-ab94-0b4355f72819",
   "metadata": {
    "vscode": {
     "languageId": "r"
    }
   },
   "outputs": [
    {
     "data": {
      "text/html": [
       "<table class=\"dataframe\">\n",
       "<caption>A grouped_df: 3 × 2</caption>\n",
       "<thead>\n",
       "\t<tr><th scope=col>shape1_same | shape2_same</th><th scope=col>n</th></tr>\n",
       "\t<tr><th scope=col>&lt;lgl&gt;</th><th scope=col>&lt;int&gt;</th></tr>\n",
       "</thead>\n",
       "<tbody>\n",
       "\t<tr><td>FALSE</td><td>2021</td></tr>\n",
       "\t<tr><td> TRUE</td><td>9469</td></tr>\n",
       "\t<tr><td>   NA</td><td>  30</td></tr>\n",
       "</tbody>\n",
       "</table>\n"
      ],
      "text/latex": [
       "A grouped\\_df: 3 × 2\n",
       "\\begin{tabular}{ll}\n",
       " shape1\\_same \\textbar{} shape2\\_same & n\\\\\n",
       " <lgl> & <int>\\\\\n",
       "\\hline\n",
       "\t FALSE & 2021\\\\\n",
       "\t  TRUE & 9469\\\\\n",
       "\t    NA &   30\\\\\n",
       "\\end{tabular}\n"
      ],
      "text/markdown": [
       "\n",
       "A grouped_df: 3 × 2\n",
       "\n",
       "| shape1_same | shape2_same &lt;lgl&gt; | n &lt;int&gt; |\n",
       "|---|---|\n",
       "| FALSE | 2021 |\n",
       "|  TRUE | 9469 |\n",
       "|    NA |   30 |\n",
       "\n"
      ],
      "text/plain": [
       "  shape1_same | shape2_same n   \n",
       "1 FALSE                     2021\n",
       "2  TRUE                     9469\n",
       "3    NA                       30"
      ]
     },
     "metadata": {},
     "output_type": "display_data"
    }
   ],
   "source": [
    "prev_trial_mild <- cb %>%\n",
    "  group_by(subject_id) %>%\n",
    "  mutate(\n",
    "    shape1_same = shape1 == lag(shape1) | shape1 == lag(shape2),\n",
    "    shape2_same = shape2 == lag(shape1) | shape2 == lag(shape2),\n",
    "    label1_same = label1 == lag(label1) | label1 == lag(label2),\n",
    "    label2_same = label2 == lag(label1) | label2 == lag(label2),\n",
    "    shapes_same = shape1_same & shape2_same,\n",
    "    labels_same = label1_same & label2_same\n",
    "    )\n",
    "\n",
    "prev_trial_mild %>% group_by(shape1_same | shape2_same) %>% count()"
   ]
  },
  {
   "cell_type": "markdown",
   "id": "6943ed6c-0403-4348-a39a-bf0ee8141b13",
   "metadata": {},
   "source": [
    "# Localizer"
   ]
  },
  {
   "cell_type": "code",
   "execution_count": 21,
   "id": "c764db7b-9452-4463-b771-6924ef34b784",
   "metadata": {
    "vscode": {
     "languageId": "r"
    }
   },
   "outputs": [],
   "source": [
    "cb_loc <- read_csv(\"/Users/Barbu/Documents/Postdoc/Experiments/Pushmi/MEG/Randomization/cb.csv\", col_types = cols()) %>%\n",
    "    filter(trial_type %in% c('word', 'image'))"
   ]
  },
  {
   "cell_type": "code",
   "execution_count": 29,
   "id": "d42a0e9d-d6bd-4432-beba-686f16681134",
   "metadata": {
    "vscode": {
     "languageId": "r"
    }
   },
   "outputs": [
    {
     "data": {
      "text/html": [
       "<table class=\"dataframe\">\n",
       "<caption>A grouped_df: 30 × 2</caption>\n",
       "<thead>\n",
       "\t<tr><th scope=col>diff</th><th scope=col>n</th></tr>\n",
       "\t<tr><th scope=col>&lt;dbl&gt;</th><th scope=col>&lt;int&gt;</th></tr>\n",
       "</thead>\n",
       "<tbody>\n",
       "\t<tr><td> 2</td><td>352</td></tr>\n",
       "\t<tr><td> 3</td><td>340</td></tr>\n",
       "\t<tr><td> 4</td><td>328</td></tr>\n",
       "\t<tr><td> 5</td><td>274</td></tr>\n",
       "\t<tr><td> 6</td><td>252</td></tr>\n",
       "\t<tr><td> 7</td><td>218</td></tr>\n",
       "\t<tr><td> 8</td><td>193</td></tr>\n",
       "\t<tr><td> 9</td><td>181</td></tr>\n",
       "\t<tr><td>10</td><td>158</td></tr>\n",
       "\t<tr><td>11</td><td>118</td></tr>\n",
       "\t<tr><td>12</td><td>103</td></tr>\n",
       "\t<tr><td>13</td><td>113</td></tr>\n",
       "\t<tr><td>14</td><td> 98</td></tr>\n",
       "\t<tr><td>15</td><td> 70</td></tr>\n",
       "\t<tr><td>16</td><td> 63</td></tr>\n",
       "\t<tr><td>17</td><td> 62</td></tr>\n",
       "\t<tr><td>18</td><td> 51</td></tr>\n",
       "\t<tr><td>19</td><td> 57</td></tr>\n",
       "\t<tr><td>20</td><td> 43</td></tr>\n",
       "\t<tr><td>21</td><td> 39</td></tr>\n",
       "\t<tr><td>22</td><td> 21</td></tr>\n",
       "\t<tr><td>23</td><td> 29</td></tr>\n",
       "\t<tr><td>24</td><td> 28</td></tr>\n",
       "\t<tr><td>25</td><td> 33</td></tr>\n",
       "\t<tr><td>26</td><td> 17</td></tr>\n",
       "\t<tr><td>27</td><td> 17</td></tr>\n",
       "\t<tr><td>28</td><td> 20</td></tr>\n",
       "\t<tr><td>29</td><td> 16</td></tr>\n",
       "\t<tr><td>30</td><td> 11</td></tr>\n",
       "\t<tr><td>NA</td><td> 90</td></tr>\n",
       "</tbody>\n",
       "</table>\n"
      ],
      "text/latex": [
       "A grouped\\_df: 30 × 2\n",
       "\\begin{tabular}{ll}\n",
       " diff & n\\\\\n",
       " <dbl> & <int>\\\\\n",
       "\\hline\n",
       "\t  2 & 352\\\\\n",
       "\t  3 & 340\\\\\n",
       "\t  4 & 328\\\\\n",
       "\t  5 & 274\\\\\n",
       "\t  6 & 252\\\\\n",
       "\t  7 & 218\\\\\n",
       "\t  8 & 193\\\\\n",
       "\t  9 & 181\\\\\n",
       "\t 10 & 158\\\\\n",
       "\t 11 & 118\\\\\n",
       "\t 12 & 103\\\\\n",
       "\t 13 & 113\\\\\n",
       "\t 14 &  98\\\\\n",
       "\t 15 &  70\\\\\n",
       "\t 16 &  63\\\\\n",
       "\t 17 &  62\\\\\n",
       "\t 18 &  51\\\\\n",
       "\t 19 &  57\\\\\n",
       "\t 20 &  43\\\\\n",
       "\t 21 &  39\\\\\n",
       "\t 22 &  21\\\\\n",
       "\t 23 &  29\\\\\n",
       "\t 24 &  28\\\\\n",
       "\t 25 &  33\\\\\n",
       "\t 26 &  17\\\\\n",
       "\t 27 &  17\\\\\n",
       "\t 28 &  20\\\\\n",
       "\t 29 &  16\\\\\n",
       "\t 30 &  11\\\\\n",
       "\t NA &  90\\\\\n",
       "\\end{tabular}\n"
      ],
      "text/markdown": [
       "\n",
       "A grouped_df: 30 × 2\n",
       "\n",
       "| diff &lt;dbl&gt; | n &lt;int&gt; |\n",
       "|---|---|\n",
       "|  2 | 352 |\n",
       "|  3 | 340 |\n",
       "|  4 | 328 |\n",
       "|  5 | 274 |\n",
       "|  6 | 252 |\n",
       "|  7 | 218 |\n",
       "|  8 | 193 |\n",
       "|  9 | 181 |\n",
       "| 10 | 158 |\n",
       "| 11 | 118 |\n",
       "| 12 | 103 |\n",
       "| 13 | 113 |\n",
       "| 14 |  98 |\n",
       "| 15 |  70 |\n",
       "| 16 |  63 |\n",
       "| 17 |  62 |\n",
       "| 18 |  51 |\n",
       "| 19 |  57 |\n",
       "| 20 |  43 |\n",
       "| 21 |  39 |\n",
       "| 22 |  21 |\n",
       "| 23 |  29 |\n",
       "| 24 |  28 |\n",
       "| 25 |  33 |\n",
       "| 26 |  17 |\n",
       "| 27 |  17 |\n",
       "| 28 |  20 |\n",
       "| 29 |  16 |\n",
       "| 30 |  11 |\n",
       "| NA |  90 |\n",
       "\n"
      ],
      "text/plain": [
       "   diff n  \n",
       "1   2   352\n",
       "2   3   340\n",
       "3   4   328\n",
       "4   5   274\n",
       "5   6   252\n",
       "6   7   218\n",
       "7   8   193\n",
       "8   9   181\n",
       "9  10   158\n",
       "10 11   118\n",
       "11 12   103\n",
       "12 13   113\n",
       "13 14    98\n",
       "14 15    70\n",
       "15 16    63\n",
       "16 17    62\n",
       "17 18    51\n",
       "18 19    57\n",
       "19 20    43\n",
       "20 21    39\n",
       "21 22    21\n",
       "22 23    29\n",
       "23 24    28\n",
       "24 25    33\n",
       "25 26    17\n",
       "26 27    17\n",
       "27 28    20\n",
       "28 29    16\n",
       "29 30    11\n",
       "30 NA    90"
      ]
     },
     "metadata": {},
     "output_type": "display_data"
    }
   ],
   "source": [
    "cb_loc %>%\n",
    "    filter(correct_key == 'right') %>%\n",
    "    group_by(subject_id, block_number) %>%\n",
    "    mutate(diff = trial_number - lag(trial_number)) %>%\n",
    "    #summarize(mean(diff, na.rm = TRUE)) %>%\n",
    "    group_by(diff) %>%\n",
    "    count()"
   ]
  },
  {
   "cell_type": "code",
   "execution_count": 34,
   "id": "533ce2a9",
   "metadata": {
    "vscode": {
     "languageId": "r"
    }
   },
   "outputs": [
    {
     "data": {
      "text/html": [
       "<table class=\"dataframe\">\n",
       "<caption>A grouped_df: 48 × 5</caption>\n",
       "<thead>\n",
       "\t<tr><th scope=col>block_number</th><th scope=col>trial_type</th><th scope=col>shape1</th><th scope=col>label1</th><th scope=col>n</th></tr>\n",
       "\t<tr><th scope=col>&lt;dbl&gt;</th><th scope=col>&lt;chr&gt;</th><th scope=col>&lt;chr&gt;</th><th scope=col>&lt;chr&gt;</th><th scope=col>&lt;int&gt;</th></tr>\n",
       "</thead>\n",
       "<tbody>\n",
       "\t<tr><td>0</td><td>image</td><td>carre </td><td>NA    </td><td> 4</td></tr>\n",
       "\t<tr><td>0</td><td>image</td><td>cercle</td><td>NA    </td><td> 4</td></tr>\n",
       "\t<tr><td>0</td><td>image</td><td>croix </td><td>NA    </td><td> 4</td></tr>\n",
       "\t<tr><td>0</td><td>image</td><td>etoile</td><td>NA    </td><td> 4</td></tr>\n",
       "\t<tr><td>0</td><td>image</td><td>louve </td><td>NA    </td><td> 4</td></tr>\n",
       "\t<tr><td>0</td><td>image</td><td>malle </td><td>NA    </td><td> 4</td></tr>\n",
       "\t<tr><td>0</td><td>image</td><td>poule </td><td>NA    </td><td> 4</td></tr>\n",
       "\t<tr><td>0</td><td>image</td><td>tasse </td><td>NA    </td><td> 4</td></tr>\n",
       "\t<tr><td>0</td><td>word </td><td>NA    </td><td>carre </td><td> 4</td></tr>\n",
       "\t<tr><td>0</td><td>word </td><td>NA    </td><td>cercle</td><td> 4</td></tr>\n",
       "\t<tr><td>0</td><td>word </td><td>NA    </td><td>croix </td><td> 4</td></tr>\n",
       "\t<tr><td>0</td><td>word </td><td>NA    </td><td>etoile</td><td> 4</td></tr>\n",
       "\t<tr><td>0</td><td>word </td><td>NA    </td><td>louve </td><td> 4</td></tr>\n",
       "\t<tr><td>0</td><td>word </td><td>NA    </td><td>malle </td><td> 4</td></tr>\n",
       "\t<tr><td>0</td><td>word </td><td>NA    </td><td>poule </td><td> 4</td></tr>\n",
       "\t<tr><td>0</td><td>word </td><td>NA    </td><td>tasse </td><td> 4</td></tr>\n",
       "\t<tr><td>1</td><td>image</td><td>carre </td><td>NA    </td><td>30</td></tr>\n",
       "\t<tr><td>1</td><td>image</td><td>cercle</td><td>NA    </td><td>30</td></tr>\n",
       "\t<tr><td>1</td><td>image</td><td>croix </td><td>NA    </td><td>30</td></tr>\n",
       "\t<tr><td>1</td><td>image</td><td>etoile</td><td>NA    </td><td>30</td></tr>\n",
       "\t<tr><td>1</td><td>image</td><td>louve </td><td>NA    </td><td>30</td></tr>\n",
       "\t<tr><td>1</td><td>image</td><td>malle </td><td>NA    </td><td>30</td></tr>\n",
       "\t<tr><td>1</td><td>image</td><td>poule </td><td>NA    </td><td>30</td></tr>\n",
       "\t<tr><td>1</td><td>image</td><td>tasse </td><td>NA    </td><td>30</td></tr>\n",
       "\t<tr><td>1</td><td>word </td><td>NA    </td><td>carre </td><td>30</td></tr>\n",
       "\t<tr><td>1</td><td>word </td><td>NA    </td><td>cercle</td><td>30</td></tr>\n",
       "\t<tr><td>1</td><td>word </td><td>NA    </td><td>croix </td><td>30</td></tr>\n",
       "\t<tr><td>1</td><td>word </td><td>NA    </td><td>etoile</td><td>30</td></tr>\n",
       "\t<tr><td>1</td><td>word </td><td>NA    </td><td>louve </td><td>30</td></tr>\n",
       "\t<tr><td>1</td><td>word </td><td>NA    </td><td>malle </td><td>30</td></tr>\n",
       "\t<tr><td>1</td><td>word </td><td>NA    </td><td>poule </td><td>30</td></tr>\n",
       "\t<tr><td>1</td><td>word </td><td>NA    </td><td>tasse </td><td>30</td></tr>\n",
       "\t<tr><td>2</td><td>image</td><td>carre </td><td>NA    </td><td>30</td></tr>\n",
       "\t<tr><td>2</td><td>image</td><td>cercle</td><td>NA    </td><td>30</td></tr>\n",
       "\t<tr><td>2</td><td>image</td><td>croix </td><td>NA    </td><td>30</td></tr>\n",
       "\t<tr><td>2</td><td>image</td><td>etoile</td><td>NA    </td><td>30</td></tr>\n",
       "\t<tr><td>2</td><td>image</td><td>louve </td><td>NA    </td><td>30</td></tr>\n",
       "\t<tr><td>2</td><td>image</td><td>malle </td><td>NA    </td><td>30</td></tr>\n",
       "\t<tr><td>2</td><td>image</td><td>poule </td><td>NA    </td><td>30</td></tr>\n",
       "\t<tr><td>2</td><td>image</td><td>tasse </td><td>NA    </td><td>30</td></tr>\n",
       "\t<tr><td>2</td><td>word </td><td>NA    </td><td>carre </td><td>30</td></tr>\n",
       "\t<tr><td>2</td><td>word </td><td>NA    </td><td>cercle</td><td>30</td></tr>\n",
       "\t<tr><td>2</td><td>word </td><td>NA    </td><td>croix </td><td>30</td></tr>\n",
       "\t<tr><td>2</td><td>word </td><td>NA    </td><td>etoile</td><td>30</td></tr>\n",
       "\t<tr><td>2</td><td>word </td><td>NA    </td><td>louve </td><td>30</td></tr>\n",
       "\t<tr><td>2</td><td>word </td><td>NA    </td><td>malle </td><td>30</td></tr>\n",
       "\t<tr><td>2</td><td>word </td><td>NA    </td><td>poule </td><td>30</td></tr>\n",
       "\t<tr><td>2</td><td>word </td><td>NA    </td><td>tasse </td><td>30</td></tr>\n",
       "</tbody>\n",
       "</table>\n"
      ],
      "text/latex": [
       "A grouped\\_df: 48 × 5\n",
       "\\begin{tabular}{lllll}\n",
       " block\\_number & trial\\_type & shape1 & label1 & n\\\\\n",
       " <dbl> & <chr> & <chr> & <chr> & <int>\\\\\n",
       "\\hline\n",
       "\t 0 & image & carre  & NA     &  4\\\\\n",
       "\t 0 & image & cercle & NA     &  4\\\\\n",
       "\t 0 & image & croix  & NA     &  4\\\\\n",
       "\t 0 & image & etoile & NA     &  4\\\\\n",
       "\t 0 & image & louve  & NA     &  4\\\\\n",
       "\t 0 & image & malle  & NA     &  4\\\\\n",
       "\t 0 & image & poule  & NA     &  4\\\\\n",
       "\t 0 & image & tasse  & NA     &  4\\\\\n",
       "\t 0 & word  & NA     & carre  &  4\\\\\n",
       "\t 0 & word  & NA     & cercle &  4\\\\\n",
       "\t 0 & word  & NA     & croix  &  4\\\\\n",
       "\t 0 & word  & NA     & etoile &  4\\\\\n",
       "\t 0 & word  & NA     & louve  &  4\\\\\n",
       "\t 0 & word  & NA     & malle  &  4\\\\\n",
       "\t 0 & word  & NA     & poule  &  4\\\\\n",
       "\t 0 & word  & NA     & tasse  &  4\\\\\n",
       "\t 1 & image & carre  & NA     & 30\\\\\n",
       "\t 1 & image & cercle & NA     & 30\\\\\n",
       "\t 1 & image & croix  & NA     & 30\\\\\n",
       "\t 1 & image & etoile & NA     & 30\\\\\n",
       "\t 1 & image & louve  & NA     & 30\\\\\n",
       "\t 1 & image & malle  & NA     & 30\\\\\n",
       "\t 1 & image & poule  & NA     & 30\\\\\n",
       "\t 1 & image & tasse  & NA     & 30\\\\\n",
       "\t 1 & word  & NA     & carre  & 30\\\\\n",
       "\t 1 & word  & NA     & cercle & 30\\\\\n",
       "\t 1 & word  & NA     & croix  & 30\\\\\n",
       "\t 1 & word  & NA     & etoile & 30\\\\\n",
       "\t 1 & word  & NA     & louve  & 30\\\\\n",
       "\t 1 & word  & NA     & malle  & 30\\\\\n",
       "\t 1 & word  & NA     & poule  & 30\\\\\n",
       "\t 1 & word  & NA     & tasse  & 30\\\\\n",
       "\t 2 & image & carre  & NA     & 30\\\\\n",
       "\t 2 & image & cercle & NA     & 30\\\\\n",
       "\t 2 & image & croix  & NA     & 30\\\\\n",
       "\t 2 & image & etoile & NA     & 30\\\\\n",
       "\t 2 & image & louve  & NA     & 30\\\\\n",
       "\t 2 & image & malle  & NA     & 30\\\\\n",
       "\t 2 & image & poule  & NA     & 30\\\\\n",
       "\t 2 & image & tasse  & NA     & 30\\\\\n",
       "\t 2 & word  & NA     & carre  & 30\\\\\n",
       "\t 2 & word  & NA     & cercle & 30\\\\\n",
       "\t 2 & word  & NA     & croix  & 30\\\\\n",
       "\t 2 & word  & NA     & etoile & 30\\\\\n",
       "\t 2 & word  & NA     & louve  & 30\\\\\n",
       "\t 2 & word  & NA     & malle  & 30\\\\\n",
       "\t 2 & word  & NA     & poule  & 30\\\\\n",
       "\t 2 & word  & NA     & tasse  & 30\\\\\n",
       "\\end{tabular}\n"
      ],
      "text/markdown": [
       "\n",
       "A grouped_df: 48 × 5\n",
       "\n",
       "| block_number &lt;dbl&gt; | trial_type &lt;chr&gt; | shape1 &lt;chr&gt; | label1 &lt;chr&gt; | n &lt;int&gt; |\n",
       "|---|---|---|---|---|\n",
       "| 0 | image | carre  | NA     |  4 |\n",
       "| 0 | image | cercle | NA     |  4 |\n",
       "| 0 | image | croix  | NA     |  4 |\n",
       "| 0 | image | etoile | NA     |  4 |\n",
       "| 0 | image | louve  | NA     |  4 |\n",
       "| 0 | image | malle  | NA     |  4 |\n",
       "| 0 | image | poule  | NA     |  4 |\n",
       "| 0 | image | tasse  | NA     |  4 |\n",
       "| 0 | word  | NA     | carre  |  4 |\n",
       "| 0 | word  | NA     | cercle |  4 |\n",
       "| 0 | word  | NA     | croix  |  4 |\n",
       "| 0 | word  | NA     | etoile |  4 |\n",
       "| 0 | word  | NA     | louve  |  4 |\n",
       "| 0 | word  | NA     | malle  |  4 |\n",
       "| 0 | word  | NA     | poule  |  4 |\n",
       "| 0 | word  | NA     | tasse  |  4 |\n",
       "| 1 | image | carre  | NA     | 30 |\n",
       "| 1 | image | cercle | NA     | 30 |\n",
       "| 1 | image | croix  | NA     | 30 |\n",
       "| 1 | image | etoile | NA     | 30 |\n",
       "| 1 | image | louve  | NA     | 30 |\n",
       "| 1 | image | malle  | NA     | 30 |\n",
       "| 1 | image | poule  | NA     | 30 |\n",
       "| 1 | image | tasse  | NA     | 30 |\n",
       "| 1 | word  | NA     | carre  | 30 |\n",
       "| 1 | word  | NA     | cercle | 30 |\n",
       "| 1 | word  | NA     | croix  | 30 |\n",
       "| 1 | word  | NA     | etoile | 30 |\n",
       "| 1 | word  | NA     | louve  | 30 |\n",
       "| 1 | word  | NA     | malle  | 30 |\n",
       "| 1 | word  | NA     | poule  | 30 |\n",
       "| 1 | word  | NA     | tasse  | 30 |\n",
       "| 2 | image | carre  | NA     | 30 |\n",
       "| 2 | image | cercle | NA     | 30 |\n",
       "| 2 | image | croix  | NA     | 30 |\n",
       "| 2 | image | etoile | NA     | 30 |\n",
       "| 2 | image | louve  | NA     | 30 |\n",
       "| 2 | image | malle  | NA     | 30 |\n",
       "| 2 | image | poule  | NA     | 30 |\n",
       "| 2 | image | tasse  | NA     | 30 |\n",
       "| 2 | word  | NA     | carre  | 30 |\n",
       "| 2 | word  | NA     | cercle | 30 |\n",
       "| 2 | word  | NA     | croix  | 30 |\n",
       "| 2 | word  | NA     | etoile | 30 |\n",
       "| 2 | word  | NA     | louve  | 30 |\n",
       "| 2 | word  | NA     | malle  | 30 |\n",
       "| 2 | word  | NA     | poule  | 30 |\n",
       "| 2 | word  | NA     | tasse  | 30 |\n",
       "\n"
      ],
      "text/plain": [
       "   block_number trial_type shape1 label1 n \n",
       "1  0            image      carre  NA      4\n",
       "2  0            image      cercle NA      4\n",
       "3  0            image      croix  NA      4\n",
       "4  0            image      etoile NA      4\n",
       "5  0            image      louve  NA      4\n",
       "6  0            image      malle  NA      4\n",
       "7  0            image      poule  NA      4\n",
       "8  0            image      tasse  NA      4\n",
       "9  0            word       NA     carre   4\n",
       "10 0            word       NA     cercle  4\n",
       "11 0            word       NA     croix   4\n",
       "12 0            word       NA     etoile  4\n",
       "13 0            word       NA     louve   4\n",
       "14 0            word       NA     malle   4\n",
       "15 0            word       NA     poule   4\n",
       "16 0            word       NA     tasse   4\n",
       "17 1            image      carre  NA     30\n",
       "18 1            image      cercle NA     30\n",
       "19 1            image      croix  NA     30\n",
       "20 1            image      etoile NA     30\n",
       "21 1            image      louve  NA     30\n",
       "22 1            image      malle  NA     30\n",
       "23 1            image      poule  NA     30\n",
       "24 1            image      tasse  NA     30\n",
       "25 1            word       NA     carre  30\n",
       "26 1            word       NA     cercle 30\n",
       "27 1            word       NA     croix  30\n",
       "28 1            word       NA     etoile 30\n",
       "29 1            word       NA     louve  30\n",
       "30 1            word       NA     malle  30\n",
       "31 1            word       NA     poule  30\n",
       "32 1            word       NA     tasse  30\n",
       "33 2            image      carre  NA     30\n",
       "34 2            image      cercle NA     30\n",
       "35 2            image      croix  NA     30\n",
       "36 2            image      etoile NA     30\n",
       "37 2            image      louve  NA     30\n",
       "38 2            image      malle  NA     30\n",
       "39 2            image      poule  NA     30\n",
       "40 2            image      tasse  NA     30\n",
       "41 2            word       NA     carre  30\n",
       "42 2            word       NA     cercle 30\n",
       "43 2            word       NA     croix  30\n",
       "44 2            word       NA     etoile 30\n",
       "45 2            word       NA     louve  30\n",
       "46 2            word       NA     malle  30\n",
       "47 2            word       NA     poule  30\n",
       "48 2            word       NA     tasse  30"
      ]
     },
     "metadata": {},
     "output_type": "display_data"
    }
   ],
   "source": [
    "cb_loc %>% \n",
    "    filter(subject_id == 1) %>%\n",
    "    group_by(block_number, trial_type, shape1, label1) %>% count()"
   ]
  }
 ],
 "metadata": {
  "kernelspec": {
   "display_name": "R",
   "language": "R",
   "name": "ir"
  },
  "language_info": {
   "codemirror_mode": "r",
   "file_extension": ".r",
   "mimetype": "text/x-r-source",
   "name": "R",
   "pygments_lexer": "r",
   "version": "4.4.0"
  }
 },
 "nbformat": 4,
 "nbformat_minor": 5
}
